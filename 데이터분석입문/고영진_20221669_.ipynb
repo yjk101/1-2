{
 "cells": [
  {
   "cell_type": "markdown",
   "id": "9afcfde1",
   "metadata": {},
   "source": [
    "<h1><span style=\"color:red\">유의사항</span></h1><br>\n",
    "1. ipynb 파일명은 이름_학번.ipynb으로 합니다. e.g. 홍길동_20221102.ipynb<br>\n",
    "2. 위 양식 이외의 파일명으로 제출된 파일은 미제출로 간주되며, 채점하지 않습니다.<br>\n",
    "3. 제공된 csv 파일을 수정하는 것은 허용하지 않습니다. (행, 열 삭제 또는 추가 등)<br>\n",
    "4. 반드시 문제 마다 하나의 셀(Cell)에서 독립적으로 동작할 수 있게 코딩하여야 합니다. (어길 시 평가점수 불이익) <br>\n",
    "5. 여러 셀에 나누어 답안을 작성할 경우 0점 또는 감점 받을 수 있습니다.<br>\n",
    "6. 불필요한 셀은 단축키 dd 를 눌러서 제거하세요.<br>\n",
    "7. 채점은 셀별로 독립적으로 이루어집니다.<br>\n",
    "8. 각 문제 마다 필요한 라이브러리를 import 시키세요.<br>\n",
    "9. 셀 실행(▶ Run) 버튼 클릭 시, Error 메시지가 출력되고 정상 실행되지 않을 경우 해당 문제는 0점입니다.<br>\n",
    "10. 셀 실행(▶ Run) 버튼 클릭 시, Warning 메시지가 출력될 경우 0점 또는 감점 받을 수 있습니다."
   ]
  },
  {
   "cell_type": "markdown",
   "id": "37ca3be9",
   "metadata": {},
   "source": [
    "<h1><span style=\"color:red\">시험 중 주의사항</span></h1><br>\n",
    "1. 주피터 노트북 이외의 인터넷 웹 페이지가 모니터 화면에 표시될 경우 감독자로부터 경고를 받게 됩니다.<br>\n",
    "2. 경고 3회 누적 시, 퇴실 조치를 받을 수 있습니다."
   ]
  },
  {
   "cell_type": "markdown",
   "id": "b8580080",
   "metadata": {},
   "source": [
    "<h1><span style=\"color:red\">답안 제출방법</span></h1><br>\n",
    "1. 작성 완료한 ipynb 파일을 원격수업(eClass) 내 <span style=\"color:blue\">중간고사 파일 제출</span>에 업로드합니다.<br>\n",
    "2. 제출 전에 파일명을 이름_학번.ipynb 양식으로 작성하였는지 확인하세요.<br>\n",
    "3. 파일 제출을 완료하시면 감독자에게 손을 들어 제출 사실을 알리고, 조용히 퇴실합니다."
   ]
  },
  {
   "cell_type": "markdown",
   "id": "3ba60f54",
   "metadata": {},
   "source": [
    "<h1>문제 1</h1>\n",
    "seoul.csv 파일에서 최저기온(℃) 컬럼에 기록된 데이터 중에서 최댓값을 찾아 출력하세요.\n",
    "<h4>제약사항</h4>\n",
    "* Python 내장함수 또는 NumPy 라이브러리에서 제공하는 max() 함수를 사용할 경우 감점"
   ]
  },
  {
   "cell_type": "code",
   "execution_count": 16,
   "id": "3473efc6",
   "metadata": {},
   "outputs": [
    {
     "name": "stdout",
     "output_type": "stream",
     "text": [
      "30.3\n"
     ]
    }
   ],
   "source": [
    "# 출력을 원할 경우 print() 함수 활용\n",
    "# 예시) print('안녕하세요')\n",
    "\n",
    "# csv 파일은 './file_name.csv' 형태로 읽어들입니다.\n",
    "import csv\n",
    "\n",
    "f = open('./seoul.csv', 'r', encoding='cp949')\n",
    "data = csv.reader(f)\n",
    "header = next(data)\n",
    "\n",
    "# 수강생 코딩\n",
    "\n",
    "max = -999\n",
    "\n",
    "for row in data:\n",
    "    if row[3] == '':\n",
    "        row[3] = -999\n",
    "        \n",
    "    row[3] = float(row[3])\n",
    "    \n",
    "    if max < row[3]:\n",
    "        max = row[3]\n",
    "\n",
    "print(max)\n",
    "\n",
    "\n",
    "# 답안 제출 예시\n",
    "# print(최댓값)"
   ]
  },
  {
   "cell_type": "markdown",
   "id": "3f71c296",
   "metadata": {},
   "source": [
    "<h1>문제 2</h1>\n",
    "age.csv 파일에서 신도림동의 연령에 따른 인구수 데이터를 추출하고, 이를 막대그래프로 그리세요.\n",
    "<h4>제약사항</h4>\n",
    "* 그래프의 크기는 가로 10인치, 세로 2인치로 설정하세요.<br>\n",
    "* 한글 폰트는 맑은 고딕으로 설정하세요.<br>\n",
    "* 그래프의 제목은 '신도림동의 연령에 따른 인구수'로 지정하세요.<br>\n",
    "* x축: '연령'으로 레이블을 지정하세요.<br>\n",
    "* y축: '인구수'로 레이블을 지정하세요.<br>\n",
    "* 격자가 표시되게끔 하세요.<br>"
   ]
  },
  {
   "cell_type": "code",
   "execution_count": 17,
   "id": "529839c7",
   "metadata": {
    "scrolled": true
   },
   "outputs": [
    {
     "data": {
      "image/png": "[encoded data removed]",
      "text/plain": [
       "<Figure size 720x144 with 1 Axes>"
      ]
     },
     "metadata": {
      "needs_background": "light"
     },
     "output_type": "display_data"
    }
   ],
   "source": [
    "# csv 파일은 './file_name.csv' 형태로 읽어들입니다.\n",
    "# 수강생 코딩\n",
    "\n",
    "import csv\n",
    "import matplotlib.pyplot as plt\n",
    "\n",
    "f = open('./age.csv', 'r', encoding='cp949')\n",
    "data = csv.reader(f)\n",
    "\n",
    "a = []\n",
    "\n",
    "for row in data:\n",
    "    if '신도림' in row[0]:\n",
    "        for i in row[3:]:\n",
    "            a.append(int(i))\n",
    "        \n",
    "        \n",
    "        \n",
    "plt.rc('font', family='Malgun Gothic')\n",
    "plt.figure(figsize=(10,2))\n",
    "plt.title('신도림동의 연령에 따른 인구수')\n",
    "plt.bar(range(len(a)), a)\n",
    "plt.xlabel('연령')\n",
    "plt.ylabel('인구수')\n",
    "plt.grid(True)\n",
    "plt.show()"
   ]
  },
  {
   "cell_type": "markdown",
   "id": "f79dea97",
   "metadata": {},
   "source": [
    "<h1>문제 3</h1>\n",
    "사용자로부터 남여 인구 비율을 알고 싶은 지역의 이름을 키보드로부터 입력 받아서, \n",
    "입력 받은 지역의 남성의 총 인구수와 여성의 총 인구수 데이터를 gender.csv 파일에서 추출하고 추출한 데이터를 원그래프로 그리세요.\n",
    "\n",
    "<h4>출력 화면 예시</h4>\n",
    "찾고 싶은 지역의 이름을 알려주세요: <span style=\"color:red\">울릉군</span><br>"
   ]
  },
  {
   "attachments": {
    "img-2.png": {
     "image/png": "[encoded data removed]"
    }
   },
   "cell_type": "markdown",
   "id": "e6f281ad",
   "metadata": {},
   "source": [
    "![img-2.png](attachment:img-2.png)"
   ]
  },
  {
   "cell_type": "markdown",
   "id": "cf9ab4e9",
   "metadata": {},
   "source": [
    "<h4>참고 및 제약사항</h4>\n",
    "* 출력 화면 예시에서 빨간색으로 표시된 부분은 사용자가 입력한 값입니다.<br>\n",
    "* 실행 결과는 '구로구'를 기준으로 평가합니다.<br>\n",
    "* 각 부채꼴에 '남성', '여성'으로 레이블을 지정하세요.<br>\n",
    "* '남성'에 대응되는 부채꼴의 색상은 'skyblue'로 지정하세요.<br>\n",
    "* '여성'에 대응되는 부채골의 색상은 'pink'로 지정하세요.<br>\n",
    "* 한글 폰트는 맑은 고딕으로 설정하세요.<br>\n",
    "* 원그래프에서 소수점 둘째 자리까지 표현되게 설정하세요.<br>\n",
    "* 부채꼴이 12시 방향에서 시작되게끔 설정하세요."
   ]
  },
  {
   "cell_type": "code",
   "execution_count": 39,
   "id": "4428415f",
   "metadata": {},
   "outputs": [
    {
     "name": "stdout",
     "output_type": "stream",
     "text": [
      "지역 이름을 입력하세요: 구로구\n"
     ]
    },
    {
     "data": {
      "image/png": "[encoded data removed]",
      "text/plain": [
       "<Figure size 432x288 with 1 Axes>"
      ]
     },
     "metadata": {},
     "output_type": "display_data"
    }
   ],
   "source": [
    "# csv 파일은 './file_name.csv' 형태로 읽어들입니다.\n",
    "# 수강생 코딩\n",
    "\n",
    "import csv\n",
    "import matplotlib.pyplot as plt\n",
    "\n",
    "f = open('./gender.csv', 'r', encoding='cp949')\n",
    "data = csv.reader(f)\n",
    "\n",
    "m = []\n",
    "w = []\n",
    "\n",
    "local = input('지역 이름을 입력하세요: ')\n",
    "\n",
    "for row in data:\n",
    "    if local in row[0]:\n",
    "        for i in row[3:104]:\n",
    "            m.append(int(i.replace(',', '')))\n",
    "        for i in row[106:207]:\n",
    "            w.append(int(i.replace(',', '')))\n",
    "\n",
    "        \n",
    "plt.rc('font', family='Malgun Gothic')        \n",
    "labels = ['남성', '여성']\n",
    "colors = ['skyblue', 'pink']\n",
    "plt.pie([sum(m), sum(w)], labels=labels, colors=colors, autopct='%.2f%%', startangle=90)\n",
    "plt.show()"
   ]
  },
  {
   "cell_type": "markdown",
   "id": "e4cbbaf6",
   "metadata": {},
   "source": [
    "<h1>문제 4</h1>\n",
    "subwayfee.csv 파일에서 유임승차, 유임하차, 무임승차, 무임하차 인원수가 가장 많았던 역을 각각 찾아 정보를 추출하고, 추출한 데이터를 아래 출력 화면 예시를 참고하여 출력하세요.\n",
    "\n",
    "<h4>출력 화면 예시</h4>\n",
    "(유임승차) <span style=\"color:red\">서울역 1호선</span>: <span style=\"color:red\">11111</span>명<br>\n",
    "(유임하차) <span style=\"color:red\">시청 2호선</span>: <span style=\"color:red\">22222</span>명<br>\n",
    "(무임승차) <span style=\"color:red\">지축 3호선</span>: <span style=\"color:red\">33333</span>명<br>\n",
    "(무임하차) <span style=\"color:red\">당고개 4호선</span>: <span style=\"color:red\">44444</span>명<br>\n",
    "\n",
    "<h4>제약사항</h4>\n",
    "* 출력 화면 예시에서 빨간색으로 표시된 부분은 변수 값을 출력하는 형태로 작성하세요.<br>"
   ]
  },
  {
   "cell_type": "code",
   "execution_count": 41,
   "id": "56be966e",
   "metadata": {},
   "outputs": [
    {
     "name": "stdout",
     "output_type": "stream",
     "text": [
      "(유임승차) 강남 2호선: 2073808 명\n",
      "(유임하차) 강남 2호선: 2018576 명\n",
      "(무임승차) 종로3가 1호선: 277589 명\n",
      "(무임하차) 제기동 1호선: 282283 명\n"
     ]
    }
   ],
   "source": [
    "# 출력을 원할 경우 print() 함수 활용\n",
    "# 예시) print('안녕하세요')\n",
    "\n",
    "# csv 파일은 './file_name.csv' 형태로 읽어들입니다.\n",
    "# 수강생 코딩\n",
    "\n",
    "import csv\n",
    "\n",
    "f = open('./subwayfee.csv', 'r', encoding='cp949')\n",
    "data = csv.reader(f)\n",
    "header = next(data)\n",
    "\n",
    "max_people = [0] * 4\n",
    "max_station = [0] * 4\n",
    "label = ['(유임승차)', '(유임하차)', '(무임승차)', '(무임하차)']\n",
    "\n",
    "for row in data:\n",
    "    for i in range(4, 8):\n",
    "        row[i] = int(row[i].replace(',', ''))\n",
    "        \n",
    "        if row[i] > max_people[i-4]:\n",
    "            max_people[i-4] = row[i]\n",
    "            max_station[i-4] = row[3] + ' ' + row[1]\n",
    "            \n",
    "for i in range(4):\n",
    "    print(label[i] + ' ' + max_station[i] + ':', max_people[i], '명')\n",
    "    "
   ]
  },
  {
   "cell_type": "markdown",
   "id": "8c90646b",
   "metadata": {},
   "source": [
    "<h1>문제 5</h1>\n",
    "subwaytime.csv 파일에서 각 지하철역에서 오전 9시부터 오후 1시까지의 승차 인원수 합을 계산하고, x축을 역 그리고 y축을 승차 인원수 합으로 하는 막대그래프를 그리세요.\n",
    "<h4>제약사항</h4>\n",
    "* 지하철역 마다 계산된 승차 인원수 합을 오름차순으로 정렬한 다음 막대그래프로 그리세요.<br>\n",
    "* 그래프의 크기는 가로 10인치, 세로 3인치로 설정하세요.<br>\n",
    "* 한글 폰트는 맑은 고딕으로 설정하세요.<br>\n",
    "* 그래프의 제목은 '신도림동의 연령에 따른 인구수'로 지정하세요.<br>\n",
    "* x축: '역'으로 레이블을 지정하세요.<br>\n",
    "* y축: '승차 인원수 합'으로 레이블을 지정하세요.<br>\n",
    "* 격자가 표시되게끔 하세요.<br>"
   ]
  },
  {
   "cell_type": "code",
   "execution_count": 43,
   "id": "56108dc4",
   "metadata": {},
   "outputs": [
    {
     "data": {
      "image/png": "[encoded data removed]",
      "text/plain": [
       "<Figure size 720x216 with 1 Axes>"
      ]
     },
     "metadata": {
      "needs_background": "light"
     },
     "output_type": "display_data"
    }
   ],
   "source": [
    "# csv 파일은 './file_name.csv' 형태로 읽어들입니다.\n",
    "# 수강생 코딩\n",
    "\n",
    "import csv\n",
    "\n",
    "f = open('./subwaytime.csv', 'r', encoding='cp949')\n",
    "data = csv.reader(f)\n",
    "header = next(data)\n",
    "header = next(data)\n",
    "\n",
    "result = []\n",
    "for row in data:\n",
    "    for i in range(4, 52):\n",
    "        row[i] = row[i].replace(',', \"\")\n",
    "        \n",
    "    row[4:] = map(int, row[4:])\n",
    "    result.append(sum(row[14:23:2]))\n",
    "\n",
    "result.sort()\n",
    "    \n",
    "plt.rc('font', family='Malgun Gothic')\n",
    "plt.figure(figsize=(10, 3))\n",
    "plt.title('신도림동의 연령에 따른 인구수')\n",
    "plt.bar(range(len(result)), result)\n",
    "plt.xlabel('역')\n",
    "plt.ylabel('승차 인원수 합')\n",
    "plt.grid(True)\n",
    "plt.show()"
   ]
  },
  {
   "cell_type": "markdown",
   "id": "50c0e834",
   "metadata": {},
   "source": [
    "<h1>수고하셨습니다.</h1>"
   ]
  }
 ],
 "metadata": {
  "kernelspec": {
   "display_name": "Python 3 (ipykernel)",
   "language": "python",
   "name": "python3"
  },
  "language_info": {
   "codemirror_mode": {
    "name": "ipython",
    "version": 3
   },
   "file_extension": ".py",
   "mimetype": "text/x-python",
   "name": "python",
   "nbconvert_exporter": "python",
   "pygments_lexer": "ipython3",
   "version": "3.9.12"
  }
 },
 "nbformat": 4,
 "nbformat_minor": 5
}
